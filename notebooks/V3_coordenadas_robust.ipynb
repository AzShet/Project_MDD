{
 "cells": [
  {
   "cell_type": "code",
   "execution_count": 1,
   "id": "0dcc5e3d",
   "metadata": {},
   "outputs": [
    {
     "name": "stderr",
     "output_type": "stream",
     "text": [
      "c:\\Users\\AzShet\\AppData\\Local\\Programs\\Python\\Python313\\Lib\\site-packages\\tqdm\\auto.py:21: TqdmWarning: IProgress not found. Please update jupyter and ipywidgets. See https://ipywidgets.readthedocs.io/en/stable/user_install.html\n",
      "  from .autonotebook import tqdm as notebook_tqdm\n"
     ]
    }
   ],
   "source": [
    "import pandas as pd\n",
    "import re\n",
    "from geopy.geocoders import Nominatim\n",
    "from time import sleep\n",
    "from tqdm.auto import tqdm # Biblioteca para barras de progreso"
   ]
  },
  {
   "cell_type": "code",
   "execution_count": 2,
   "id": "14f769c4",
   "metadata": {},
   "outputs": [
    {
     "name": "stdout",
     "output_type": "stream",
     "text": [
      "✅ Archivo 'datos_casinos_salas.csv' leído correctamente con UTF-8.\n"
     ]
    }
   ],
   "source": [
    "# --- 1. LEER EL ARCHIVO CSV CON LA CODIFICACIÓN CORRECTA ---\n",
    "try:\n",
    "    df = pd.read_csv('datos_casinos_salas.csv', encoding='utf-8')\n",
    "    print(\"✅ Archivo 'datos_casinos_salas.csv' leído correctamente con UTF-8.\")\n",
    "except UnicodeDecodeError:\n",
    "    print(\"⚠️ UTF-8 falló. Intentando con 'latin-1'...\")\n",
    "    df = pd.read_csv('datos_casinos_salas.csv', encoding='latin-1')\n",
    "    print(\"✅ Archivo leído con 'latin-1'.\")\n",
    "except FileNotFoundError:\n",
    "    print(\"❌ Error: No se encontró el archivo 'datos_casinos_salas.csv'.\")\n",
    "    data = {'Dirección': ['AV. LARCO N° 520, MIRAFLORES', 'JR. DE LA UNION No. 456 LIMA', 'AV. PRIMAVERA 123 - SURCO'],\n",
    "            'Distrito': ['MIRAFLORES', 'LIMA', 'SANTIAGO DE SURCO'],\n",
    "            'Provincia': ['LIMA', 'LIMA', 'LIMA'],\n",
    "            'Departamento': ['LIMA', 'LIMA', 'LIMA']}\n",
    "    df = pd.DataFrame(data)"
   ]
  },
  {
   "cell_type": "code",
   "execution_count": 3,
   "id": "9f44ef40",
   "metadata": {},
   "outputs": [],
   "source": [
    "# --- 2. GENERADOR DE VARIANTES DE DIRECCIÓN ---\n",
    "def generar_variantes(row):\n",
    "    \"\"\"Crea una lista de posibles direcciones a partir de una fila de datos.\"\"\"\n",
    "    # Extraer y limpiar componentes base\n",
    "    direccion = str(row['Dirección']).strip()\n",
    "    distrito = str(row['Distrito']).strip()\n",
    "    provincia = str(row['Provincia']).strip()\n",
    "    departamento = str(row['Departamento']).strip()\n",
    "    \n",
    "    # Limpieza base de la dirección principal\n",
    "    # Reemplaza guiones o slashes cerca de números por espacios\n",
    "    base_addr = re.sub(r'\\s*[-\\/]\\s*(?=\\d)', ' ', direccion) \n",
    "    base_addr = re.sub(r'\\s+', ' ', base_addr).strip()\n",
    "\n",
    "    # Crear variantes\n",
    "    variantes = []\n",
    "    \n",
    "    # Var 1: La más limpia (sin 'No.', 'N°', etc.)\n",
    "    addr_sin_num = re.sub(r'Nro\\.?|No\\.?|N°|Nº', ' ', base_addr, flags=re.IGNORECASE)\n",
    "    addr_sin_num = re.sub(r'\\s+', ' ', addr_sin_num).strip()\n",
    "    variantes.append(f\"{addr_sin_num}, {distrito}, {provincia}, {departamento}, Perú\")\n",
    "    \n",
    "    # Var 2: Añadiendo la palabra \"Casino\"\n",
    "    variantes.append(f\"Casino {addr_sin_num}, {distrito}, {provincia}, {departamento}, Perú\")\n",
    "    \n",
    "    # Var 3: Manteniendo la nomenclatura original ('No.', 'N°', etc.)\n",
    "    variantes.append(f\"{base_addr}, {distrito}, {provincia}, {departamento}, Perú\")\n",
    "\n",
    "    # Var 4: Dirección simple sin departamento (a veces ayuda)\n",
    "    variantes.append(f\"{addr_sin_num}, {distrito}, {provincia}, Perú\")\n",
    "\n",
    "    # Eliminar duplicados y devolver la lista\n",
    "    return list(pd.Series(variantes).unique())"
   ]
  },
  {
   "cell_type": "code",
   "execution_count": null,
   "id": "4aae9b04",
   "metadata": {},
   "outputs": [
    {
     "name": "stdout",
     "output_type": "stream",
     "text": [
      "\n",
      "🚀 Iniciando geocodificación con estrategia de variantes...\n"
     ]
    },
    {
     "name": "stderr",
     "output_type": "stream",
     "text": [
      "Geocodificando:   0%|          | 0/692 [00:00<?, ?it/s]"
     ]
    },
    {
     "name": "stderr",
     "output_type": "stream",
     "text": [
      "Geocodificando:   0%|          | 0/692 [00:01<?, ?it/s]\n"
     ]
    },
    {
     "ename": "KeyboardInterrupt",
     "evalue": "",
     "output_type": "error",
     "traceback": [
      "\u001b[31m---------------------------------------------------------------------------\u001b[39m",
      "\u001b[31mKeyboardInterrupt\u001b[39m                         Traceback (most recent call last)",
      "\u001b[36mCell\u001b[39m\u001b[36m \u001b[39m\u001b[32mIn[5]\u001b[39m\u001b[32m, line 20\u001b[39m\n\u001b[32m     18\u001b[39m \u001b[38;5;28;01mfor\u001b[39;00m intento_addr \u001b[38;5;129;01min\u001b[39;00m variantes_a_probar:\n\u001b[32m     19\u001b[39m     \u001b[38;5;28;01mtry\u001b[39;00m:\n\u001b[32m---> \u001b[39m\u001b[32m20\u001b[39m         \u001b[43msleep\u001b[49m\u001b[43m(\u001b[49m\u001b[32;43m1\u001b[39;49m\u001b[43m)\u001b[49m \u001b[38;5;66;03m# Pausa obligatoria para no saturar el servicio\u001b[39;00m\n\u001b[32m     21\u001b[39m         location = geolocator.geocode(intento_addr, timeout=\u001b[32m10\u001b[39m)\n\u001b[32m     23\u001b[39m         \u001b[38;5;66;03m# Si se encuentra una ubicación, guardamos el resultado y rompemos el bucle\u001b[39;00m\n",
      "\u001b[31mKeyboardInterrupt\u001b[39m: "
     ]
    }
   ],
   "source": [
    "# --- 3. LÓGICA DE GEOCODIFICACIÓN INTELIGENTE ---\n",
    "geolocator = Nominatim(user_agent=\"geocodificador_robusto_v3\")\n",
    "resultados_finales = []\n",
    "\n",
    "print(\"\\n🚀 Iniciando geocodificación con estrategia de variantes...\")\n",
    "\n",
    "# Usamos tqdm para una barra de progreso visual\n",
    "for index, row in tqdm(df.iterrows(), total=df.shape[0], desc=\"Geocodificando\"):\n",
    "    \n",
    "    variantes_a_probar = generar_variantes(row)\n",
    "    \n",
    "    # Variables para guardar el primer resultado exitoso\n",
    "    latitud_encontrada, longitud_encontrada = None, None\n",
    "    estado_final = 'No Encontrado'\n",
    "    direccion_exitosa = None\n",
    "\n",
    "    # Iterar sobre cada variante hasta encontrar una que funcione\n",
    "    for intento_addr in variantes_a_probar:\n",
    "        try:\n",
    "            sleep(1) # Pausa obligatoria para no saturar el servicio\n",
    "            location = geolocator.geocode(intento_addr, timeout=10)\n",
    "            \n",
    "            # Si se encuentra una ubicación, guardamos el resultado y rompemos el bucle\n",
    "            if location:\n",
    "                latitud_encontrada = location.latitude\n",
    "                longitud_encontrada = location.longitude\n",
    "                estado_final = 'Encontrado'\n",
    "                direccion_exitosa = intento_addr\n",
    "                break # ¡Éxito! No necesitamos probar más variantes para esta fila.\n",
    "\n",
    "        except Exception as e:\n",
    "            print(f\"⚠️ Error de conexión en la fila {index}. Reintentando con la siguiente variante. Error: {e}\")\n",
    "            estado_final = f'Error de conexión'\n",
    "\n",
    "    # Guardar el resultado final de la fila (sea exitoso o no)\n",
    "    resultados_finales.append({\n",
    "        'Direccion_Original': row['Dirección'],\n",
    "        'Direccion_Exitosa': direccion_exitosa if direccion_exitosa else 'N/A',\n",
    "        'Latitud': latitud_encontrada,\n",
    "        'Longitud': longitud_encontrada,\n",
    "        'Estado': estado_final\n",
    "    })"
   ]
  },
  {
   "cell_type": "code",
   "execution_count": null,
   "id": "43d1f697",
   "metadata": {},
   "outputs": [],
   "source": [
    "# --- 4. CREAR Y GUARDAR EL DATAFRAME FINAL ---\n",
    "df_resultado = pd.DataFrame(resultados_finales)\n",
    "# Contar y mostrar resumen\n",
    "encontrados = df_resultado[df_resultado['Estado'] == 'Encontrado'].shape[0]\n",
    "no_encontrados = df_resultado[df_resultado['Estado'] != 'Encontrado'].shape[0]\n",
    "\n",
    "print(\"\\n--- Resumen Final ---\")\n",
    "print(f\"✅ Direcciones encontradas con éxito: {encontrados}\")\n",
    "print(f\"❌ Direcciones no encontradas (tras todos los intentos): {no_encontrados}\")\n",
    "print(\"---------------------\\n\")"
   ]
  },
  {
   "cell_type": "code",
   "execution_count": null,
   "id": "d857e35f",
   "metadata": {},
   "outputs": [],
   "source": [
    "# Guardar en CSV\n",
    "nombre_archivo_salida = 'resultados_geocodificados_variantes.csv'\n",
    "df_resultado.to_csv(nombre_archivo_salida, index=False, encoding='utf-8-sig')\n",
    "\n",
    "print(f\"🎉 ¡Proceso completo! Resultados guardados en '{nombre_archivo_salida}'\")\n",
    "print(\"\\nVista previa del resultado final:\")\n",
    "print(df_resultado.head())"
   ]
  }
 ],
 "metadata": {
  "kernelspec": {
   "display_name": "Python 3",
   "language": "python",
   "name": "python3"
  },
  "language_info": {
   "codemirror_mode": {
    "name": "ipython",
    "version": 3
   },
   "file_extension": ".py",
   "mimetype": "text/x-python",
   "name": "python",
   "nbconvert_exporter": "python",
   "pygments_lexer": "ipython3",
   "version": "3.13.5"
  }
 },
 "nbformat": 4,
 "nbformat_minor": 5
}

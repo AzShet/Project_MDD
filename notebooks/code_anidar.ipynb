{
 "cells": [
  {
   "cell_type": "code",
   "execution_count": 11,
   "id": "61f38b50",
   "metadata": {},
   "outputs": [],
   "source": [
    "import pandas as pd\n",
    "\n",
    "def anidar_datos_csv_sin_duplicados(casinos_file, geocoded_file, output_file):\n",
    "    \"\"\"\n",
    "    Combina datos de casinos y resultados geocodificados, manejando problemas de codificación,\n",
    "    eliminando filas duplicadas en el resultado final y guardando delimitado por punto y coma.\n",
    "\n",
    "    Args:\n",
    "        casinos_file (str): Ruta al archivo CSV de datos de casinos (delimitado por comas).\n",
    "        geocoded_file (str): Ruta al archivo CSV de resultados geocodificados (delimitado por punto y coma).\n",
    "        output_file (str): Nombre del archivo CSV de salida con los datos combinados.\n",
    "    \"\"\"\n",
    "    try:\n",
    "        # Cargar el primer CSV (datos_casinos_salas.csv)\n",
    "        # Recomiendo 'latin1' si 'utf-8' te dio problemas con los caracteres especiales antes.\n",
    "        # Si 'utf-8' FUNCIONA para los caracteres, déjalo así.\n",
    "        df_casinos = pd.read_csv(casinos_file, delimiter=',', encoding='utf-8')\n",
    "        print(f\"'{casinos_file}' cargado exitosamente con codificación 'utf-8'.\")\n",
    "        print(f\"Columnas en '{casinos_file}': {df_casinos.columns.tolist()}\")\n",
    "\n",
    "        # Cargar el segundo CSV (resultados_geocodificados.csv)\n",
    "        # Igual, si 'utf-8' funciona para este archivo, déjalo así.\n",
    "        # Si no, cambia a 'latin1'.\n",
    "        df_geocoded = pd.read_csv(geocoded_file, delimiter=';', encoding='utf-8')\n",
    "        print(f\"'{geocoded_file}' cargado exitosamente con codificación 'utf-8'.\")\n",
    "        print(f\"Columnas en '{geocoded_file}': {df_geocoded.columns.tolist()}\")\n",
    "\n",
    "        # **Paso crucial para evitar duplicados en la unión:**\n",
    "        # Asegurarse de que el DataFrame de geocodificación tenga direcciones únicas para la unión.\n",
    "        # Si hay varias entradas para la misma 'Direccion_Original' en 'resultados_geocodificados.csv',\n",
    "        # el merge podría crear duplicados o elegir una arbitrariamente.\n",
    "        # Aquí, tomamos la primera ocurrencia si hay direcciones duplicadas en el archivo geocodificado.\n",
    "        df_geocoded = df_geocoded.drop_duplicates(subset=['Direccion_Original'], keep='first')\n",
    "        print(f\"Eliminadas direcciones duplicadas en '{geocoded_file}' para la columna 'Direccion_Original'.\")\n",
    "\n",
    "\n",
    "        # Renombrar la columna 'Direccion_Original' en df_geocoded para que coincida con 'Dirección' en df_casinos\n",
    "        df_geocoded = df_geocoded.rename(columns={'Direccion_Original': 'Dirección'})\n",
    "\n",
    "        # Realizar la combinación (anidación) de los dos DataFrames\n",
    "        df_combinado = pd.merge(df_casinos, df_geocoded, on='Dirección', how='left')\n",
    "\n",
    "        # **Eliminar filas completamente duplicadas en el DataFrame resultante.**\n",
    "        # Esto eliminará cualquier fila donde *todos* los valores de las columnas sean idénticos a otra fila.\n",
    "        filas_antes = len(df_combinado)\n",
    "        df_combinado = df_combinado.drop_duplicates()\n",
    "        filas_despues = len(df_combinado)\n",
    "        print(f\"Se eliminaron {filas_antes - filas_despues} filas completamente duplicadas después de la combinación.\")\n",
    "\n",
    "\n",
    "        # Guardar el DataFrame combinado en un nuevo archivo CSV\n",
    "        # Especificamos el delimitador ';' para el archivo de salida\n",
    "        # Usamos 'latin1' como codificación para la escritura para preservar los caracteres especiales.\n",
    "        df_combinado.to_csv(output_file, index=False, sep=';', encoding='latin1')\n",
    "        print(f\"\\nDatos combinados guardados exitosamente en '{output_file}' delimitado por punto y coma y codificación 'latin1'.\")\n",
    "\n",
    "    except FileNotFoundError:\n",
    "        print(f\"Error: Uno de los archivos no fue encontrado. Asegúrate de que '{casinos_file}' y '{geocoded_file}' estén en la misma carpeta que el script.\")\n",
    "    except Exception as e:\n",
    "        print(f\"Ocurrió un error inesperado: {e}\")"
   ]
  },
  {
   "cell_type": "code",
   "execution_count": 12,
   "id": "fa49fa51",
   "metadata": {},
   "outputs": [
    {
     "name": "stdout",
     "output_type": "stream",
     "text": [
      "'datos_casinos_salas.csv' cargado exitosamente con codificación 'utf-8'.\n",
      "Columnas en 'datos_casinos_salas.csv': ['Ruc', 'Empresa', 'Establecimiento', 'Giro', 'Resolución', 'Código Sala', 'Vigencia', 'Dirección', 'Distrito', 'Provincia', 'Departamento']\n",
      "'resultados_geocodificados.csv' cargado exitosamente con codificación 'utf-8'.\n",
      "Columnas en 'resultados_geocodificados.csv': ['Direccion_Original', 'Direccion_Exitosa', 'Latitud', 'Longitud', 'Estado', 'Geocodificador_Usado', 'Variantes_Probadas']\n",
      "Eliminadas direcciones duplicadas en 'resultados_geocodificados.csv' para la columna 'Direccion_Original'.\n",
      "Se eliminaron 0 filas completamente duplicadas después de la combinación.\n",
      "\n",
      "Datos combinados guardados exitosamente en 'datos_casinos_geocodificados.csv' delimitado por punto y coma y codificación 'latin1'.\n"
     ]
    }
   ],
   "source": [
    "# Nombres de tus archivos CSV\n",
    "casinos_csv = 'datos_casinos_salas.csv'\n",
    "geocoded_csv = 'resultados_geocodificados.csv'\n",
    "output_csv = 'datos_casinos_geocodificados.csv'\n",
    "\n",
    "# Llamar a la función para anidar los datos\n",
    "anidar_datos_csv_sin_duplicados(casinos_csv, geocoded_csv, output_csv)"
   ]
  }
 ],
 "metadata": {
  "kernelspec": {
   "display_name": "Python 3",
   "language": "python",
   "name": "python3"
  },
  "language_info": {
   "codemirror_mode": {
    "name": "ipython",
    "version": 3
   },
   "file_extension": ".py",
   "mimetype": "text/x-python",
   "name": "python",
   "nbconvert_exporter": "python",
   "pygments_lexer": "ipython3",
   "version": "3.13.5"
  }
 },
 "nbformat": 4,
 "nbformat_minor": 5
}
